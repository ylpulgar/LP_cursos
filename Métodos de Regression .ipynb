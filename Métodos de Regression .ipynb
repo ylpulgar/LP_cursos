{
 "cells": [
  {
   "cell_type": "code",
   "execution_count": 1,
   "metadata": {},
   "outputs": [],
   "source": [
    "#Librerias comunes\n",
    "import seaborn as sns\n",
    "import seaborn as sns\n",
    "sns.set_style('whitegrid')\n",
    "import matplotlib.pyplot as plt\n",
    "import pandas as pd\n",
    "import numpy as np"
   ]
  },
  {
   "cell_type": "markdown",
   "metadata": {},
   "source": [
    "Librerias Scikitlearn para feature engineering"
   ]
  },
  {
   "cell_type": "code",
   "execution_count": 2,
   "metadata": {},
   "outputs": [],
   "source": [
    "# Import modules for feature engineering and modelling\n",
    "from sklearn.model_selection import train_test_split\n",
    "from sklearn.base import BaseEstimator, TransformerMixin\n",
    "from sklearn.preprocessing import OneHotEncoder, MinMaxScaler, KBinsDiscretizer, OrdinalEncoder\n",
    "from sklearn.impute import SimpleImputer\n",
    "from sklearn.pipeline import Pipeline, FeatureUnion\n",
    "from sklearn.compose import ColumnTransformer\n",
    "from sklearn.linear_model import LinearRegression\n",
    "# Importing metrics from sklearn\n",
    "from sklearn import metrics"
   ]
  },
  {
   "cell_type": "code",
   "execution_count": 3,
   "metadata": {},
   "outputs": [],
   "source": [
    "from sklearn.linear_model import LinearRegression"
   ]
  },
  {
   "cell_type": "code",
   "execution_count": 4,
   "metadata": {},
   "outputs": [],
   "source": [
    "from sklearn.ensemble import GradientBoostingClassifier as GBDT"
   ]
  },
  {
   "cell_type": "markdown",
   "metadata": {},
   "source": [
    "Cargamos de nuevo la base de datos"
   ]
  },
  {
   "cell_type": "code",
   "execution_count": 5,
   "metadata": {},
   "outputs": [
    {
     "name": "stderr",
     "output_type": "stream",
     "text": [
      "/Users/ylpulgar/opt/anaconda3/lib/python3.9/site-packages/IPython/core/interactiveshell.py:3444: DtypeWarning: Columns (4) have mixed types.Specify dtype option on import or set low_memory=False.\n",
      "  exec(code_obj, self.user_global_ns, self.user_ns)\n"
     ]
    }
   ],
   "source": [
    "# Creamos el dataframe df_airbnb usando pandas\n",
    "df_airbnb = pd.read_csv('/Users/ylpulgar/Jupyter/data_Bases/AB_US_2020.csv')"
   ]
  },
  {
   "cell_type": "code",
   "execution_count": 6,
   "metadata": {},
   "outputs": [
    {
     "data": {
      "text/html": [
       "<div>\n",
       "<style scoped>\n",
       "    .dataframe tbody tr th:only-of-type {\n",
       "        vertical-align: middle;\n",
       "    }\n",
       "\n",
       "    .dataframe tbody tr th {\n",
       "        vertical-align: top;\n",
       "    }\n",
       "\n",
       "    .dataframe thead th {\n",
       "        text-align: right;\n",
       "    }\n",
       "</style>\n",
       "<table border=\"1\" class=\"dataframe\">\n",
       "  <thead>\n",
       "    <tr style=\"text-align: right;\">\n",
       "      <th></th>\n",
       "      <th>id</th>\n",
       "      <th>name</th>\n",
       "      <th>host_id</th>\n",
       "      <th>host_name</th>\n",
       "      <th>neighbourhood_group</th>\n",
       "      <th>neighbourhood</th>\n",
       "      <th>latitude</th>\n",
       "      <th>longitude</th>\n",
       "      <th>room_type</th>\n",
       "      <th>price</th>\n",
       "      <th>minimum_nights</th>\n",
       "      <th>number_of_reviews</th>\n",
       "      <th>last_review</th>\n",
       "      <th>reviews_per_month</th>\n",
       "      <th>calculated_host_listings_count</th>\n",
       "      <th>availability_365</th>\n",
       "      <th>city</th>\n",
       "    </tr>\n",
       "  </thead>\n",
       "  <tbody>\n",
       "    <tr>\n",
       "      <th>0</th>\n",
       "      <td>38585</td>\n",
       "      <td>Charming Victorian home - twin beds + breakfast</td>\n",
       "      <td>165529</td>\n",
       "      <td>Evelyne</td>\n",
       "      <td>NaN</td>\n",
       "      <td>28804</td>\n",
       "      <td>35.65146</td>\n",
       "      <td>-82.62792</td>\n",
       "      <td>Private room</td>\n",
       "      <td>60</td>\n",
       "      <td>1</td>\n",
       "      <td>138</td>\n",
       "      <td>16/02/20</td>\n",
       "      <td>1.14</td>\n",
       "      <td>1</td>\n",
       "      <td>0</td>\n",
       "      <td>Asheville</td>\n",
       "    </tr>\n",
       "    <tr>\n",
       "      <th>1</th>\n",
       "      <td>80905</td>\n",
       "      <td>French Chic Loft</td>\n",
       "      <td>427027</td>\n",
       "      <td>Celeste</td>\n",
       "      <td>NaN</td>\n",
       "      <td>28801</td>\n",
       "      <td>35.59779</td>\n",
       "      <td>-82.55540</td>\n",
       "      <td>Entire home/apt</td>\n",
       "      <td>470</td>\n",
       "      <td>1</td>\n",
       "      <td>114</td>\n",
       "      <td>07/09/20</td>\n",
       "      <td>1.03</td>\n",
       "      <td>11</td>\n",
       "      <td>288</td>\n",
       "      <td>Asheville</td>\n",
       "    </tr>\n",
       "    <tr>\n",
       "      <th>2</th>\n",
       "      <td>108061</td>\n",
       "      <td>Walk to stores/parks/downtown. Fenced yard/Pet...</td>\n",
       "      <td>320564</td>\n",
       "      <td>Lisa</td>\n",
       "      <td>NaN</td>\n",
       "      <td>28801</td>\n",
       "      <td>35.60670</td>\n",
       "      <td>-82.55563</td>\n",
       "      <td>Entire home/apt</td>\n",
       "      <td>75</td>\n",
       "      <td>30</td>\n",
       "      <td>89</td>\n",
       "      <td>30/11/19</td>\n",
       "      <td>0.81</td>\n",
       "      <td>2</td>\n",
       "      <td>298</td>\n",
       "      <td>Asheville</td>\n",
       "    </tr>\n",
       "    <tr>\n",
       "      <th>3</th>\n",
       "      <td>155305</td>\n",
       "      <td>Cottage! BonPaul + Sharky's Hostel</td>\n",
       "      <td>746673</td>\n",
       "      <td>BonPaul</td>\n",
       "      <td>NaN</td>\n",
       "      <td>28806</td>\n",
       "      <td>35.57864</td>\n",
       "      <td>-82.59578</td>\n",
       "      <td>Entire home/apt</td>\n",
       "      <td>90</td>\n",
       "      <td>1</td>\n",
       "      <td>267</td>\n",
       "      <td>22/09/20</td>\n",
       "      <td>2.39</td>\n",
       "      <td>5</td>\n",
       "      <td>0</td>\n",
       "      <td>Asheville</td>\n",
       "    </tr>\n",
       "    <tr>\n",
       "      <th>4</th>\n",
       "      <td>160594</td>\n",
       "      <td>Historic Grove Park</td>\n",
       "      <td>769252</td>\n",
       "      <td>Elizabeth</td>\n",
       "      <td>NaN</td>\n",
       "      <td>28801</td>\n",
       "      <td>35.61442</td>\n",
       "      <td>-82.54127</td>\n",
       "      <td>Private room</td>\n",
       "      <td>125</td>\n",
       "      <td>30</td>\n",
       "      <td>58</td>\n",
       "      <td>19/10/15</td>\n",
       "      <td>0.52</td>\n",
       "      <td>1</td>\n",
       "      <td>0</td>\n",
       "      <td>Asheville</td>\n",
       "    </tr>\n",
       "    <tr>\n",
       "      <th>5</th>\n",
       "      <td>209068</td>\n",
       "      <td>Terrace Cottage</td>\n",
       "      <td>1029919</td>\n",
       "      <td>Kevin</td>\n",
       "      <td>NaN</td>\n",
       "      <td>28804</td>\n",
       "      <td>35.61856</td>\n",
       "      <td>-82.55276</td>\n",
       "      <td>Entire home/apt</td>\n",
       "      <td>134</td>\n",
       "      <td>7</td>\n",
       "      <td>54</td>\n",
       "      <td>14/01/20</td>\n",
       "      <td>0.49</td>\n",
       "      <td>1</td>\n",
       "      <td>294</td>\n",
       "      <td>Asheville</td>\n",
       "    </tr>\n",
       "    <tr>\n",
       "      <th>6</th>\n",
       "      <td>213006</td>\n",
       "      <td>Blue Gate West</td>\n",
       "      <td>1098412</td>\n",
       "      <td>Susanne</td>\n",
       "      <td>NaN</td>\n",
       "      <td>28806</td>\n",
       "      <td>35.58345</td>\n",
       "      <td>-82.59713</td>\n",
       "      <td>Private room</td>\n",
       "      <td>48</td>\n",
       "      <td>1</td>\n",
       "      <td>137</td>\n",
       "      <td>30/11/19</td>\n",
       "      <td>1.35</td>\n",
       "      <td>1</td>\n",
       "      <td>0</td>\n",
       "      <td>Asheville</td>\n",
       "    </tr>\n",
       "    <tr>\n",
       "      <th>7</th>\n",
       "      <td>246315</td>\n",
       "      <td>Asheville Dreamer's Cabin</td>\n",
       "      <td>1292070</td>\n",
       "      <td>Annie</td>\n",
       "      <td>NaN</td>\n",
       "      <td>28805</td>\n",
       "      <td>35.59635</td>\n",
       "      <td>-82.50655</td>\n",
       "      <td>Private room</td>\n",
       "      <td>65</td>\n",
       "      <td>3</td>\n",
       "      <td>57</td>\n",
       "      <td>30/10/19</td>\n",
       "      <td>0.53</td>\n",
       "      <td>2</td>\n",
       "      <td>106</td>\n",
       "      <td>Asheville</td>\n",
       "    </tr>\n",
       "    <tr>\n",
       "      <th>8</th>\n",
       "      <td>259576</td>\n",
       "      <td>Private, peaceful, and free goat therapy</td>\n",
       "      <td>1362726</td>\n",
       "      <td>Julia</td>\n",
       "      <td>NaN</td>\n",
       "      <td>28805</td>\n",
       "      <td>35.61929</td>\n",
       "      <td>-82.48114</td>\n",
       "      <td>Entire home/apt</td>\n",
       "      <td>71</td>\n",
       "      <td>28</td>\n",
       "      <td>537</td>\n",
       "      <td>05/04/20</td>\n",
       "      <td>5.01</td>\n",
       "      <td>1</td>\n",
       "      <td>207</td>\n",
       "      <td>Asheville</td>\n",
       "    </tr>\n",
       "    <tr>\n",
       "      <th>9</th>\n",
       "      <td>295496</td>\n",
       "      <td>The Fern Street Apt near Biltmore</td>\n",
       "      <td>1501882</td>\n",
       "      <td>Debbie</td>\n",
       "      <td>NaN</td>\n",
       "      <td>28803</td>\n",
       "      <td>35.55537</td>\n",
       "      <td>-82.53539</td>\n",
       "      <td>Entire home/apt</td>\n",
       "      <td>50</td>\n",
       "      <td>90</td>\n",
       "      <td>31</td>\n",
       "      <td>14/06/19</td>\n",
       "      <td>0.29</td>\n",
       "      <td>1</td>\n",
       "      <td>339</td>\n",
       "      <td>Asheville</td>\n",
       "    </tr>\n",
       "  </tbody>\n",
       "</table>\n",
       "</div>"
      ],
      "text/plain": [
       "       id                                               name  host_id  \\\n",
       "0   38585    Charming Victorian home - twin beds + breakfast   165529   \n",
       "1   80905                                   French Chic Loft   427027   \n",
       "2  108061  Walk to stores/parks/downtown. Fenced yard/Pet...   320564   \n",
       "3  155305                 Cottage! BonPaul + Sharky's Hostel   746673   \n",
       "4  160594                                Historic Grove Park   769252   \n",
       "5  209068                                    Terrace Cottage  1029919   \n",
       "6  213006                                     Blue Gate West  1098412   \n",
       "7  246315                          Asheville Dreamer's Cabin  1292070   \n",
       "8  259576           Private, peaceful, and free goat therapy  1362726   \n",
       "9  295496                  The Fern Street Apt near Biltmore  1501882   \n",
       "\n",
       "   host_name neighbourhood_group neighbourhood  latitude  longitude  \\\n",
       "0    Evelyne                 NaN         28804  35.65146  -82.62792   \n",
       "1    Celeste                 NaN         28801  35.59779  -82.55540   \n",
       "2       Lisa                 NaN         28801  35.60670  -82.55563   \n",
       "3    BonPaul                 NaN         28806  35.57864  -82.59578   \n",
       "4  Elizabeth                 NaN         28801  35.61442  -82.54127   \n",
       "5      Kevin                 NaN         28804  35.61856  -82.55276   \n",
       "6    Susanne                 NaN         28806  35.58345  -82.59713   \n",
       "7      Annie                 NaN         28805  35.59635  -82.50655   \n",
       "8      Julia                 NaN         28805  35.61929  -82.48114   \n",
       "9     Debbie                 NaN         28803  35.55537  -82.53539   \n",
       "\n",
       "         room_type  price  minimum_nights  number_of_reviews last_review  \\\n",
       "0     Private room     60               1                138    16/02/20   \n",
       "1  Entire home/apt    470               1                114    07/09/20   \n",
       "2  Entire home/apt     75              30                 89    30/11/19   \n",
       "3  Entire home/apt     90               1                267    22/09/20   \n",
       "4     Private room    125              30                 58    19/10/15   \n",
       "5  Entire home/apt    134               7                 54    14/01/20   \n",
       "6     Private room     48               1                137    30/11/19   \n",
       "7     Private room     65               3                 57    30/10/19   \n",
       "8  Entire home/apt     71              28                537    05/04/20   \n",
       "9  Entire home/apt     50              90                 31    14/06/19   \n",
       "\n",
       "   reviews_per_month  calculated_host_listings_count  availability_365  \\\n",
       "0               1.14                               1                 0   \n",
       "1               1.03                              11               288   \n",
       "2               0.81                               2               298   \n",
       "3               2.39                               5                 0   \n",
       "4               0.52                               1                 0   \n",
       "5               0.49                               1               294   \n",
       "6               1.35                               1                 0   \n",
       "7               0.53                               2               106   \n",
       "8               5.01                               1               207   \n",
       "9               0.29                               1               339   \n",
       "\n",
       "        city  \n",
       "0  Asheville  \n",
       "1  Asheville  \n",
       "2  Asheville  \n",
       "3  Asheville  \n",
       "4  Asheville  \n",
       "5  Asheville  \n",
       "6  Asheville  \n",
       "7  Asheville  \n",
       "8  Asheville  \n",
       "9  Asheville  "
      ]
     },
     "execution_count": 6,
     "metadata": {},
     "output_type": "execute_result"
    }
   ],
   "source": [
    "df_airbnb.head(10)"
   ]
  },
  {
   "cell_type": "markdown",
   "metadata": {},
   "source": [
    "Primero vamos a tratar los casos de missing que vimos en el analisis exploratorio"
   ]
  },
  {
   "cell_type": "code",
   "execution_count": 7,
   "metadata": {},
   "outputs": [
    {
     "data": {
      "text/html": [
       "<div>\n",
       "<style scoped>\n",
       "    .dataframe tbody tr th:only-of-type {\n",
       "        vertical-align: middle;\n",
       "    }\n",
       "\n",
       "    .dataframe tbody tr th {\n",
       "        vertical-align: top;\n",
       "    }\n",
       "\n",
       "    .dataframe thead th {\n",
       "        text-align: right;\n",
       "    }\n",
       "</style>\n",
       "<table border=\"1\" class=\"dataframe\">\n",
       "  <thead>\n",
       "    <tr style=\"text-align: right;\">\n",
       "      <th></th>\n",
       "      <th>Precent Of Missing Values</th>\n",
       "    </tr>\n",
       "  </thead>\n",
       "  <tbody>\n",
       "    <tr>\n",
       "      <th>id</th>\n",
       "      <td>0.000000</td>\n",
       "    </tr>\n",
       "    <tr>\n",
       "      <th>name</th>\n",
       "      <td>0.012388</td>\n",
       "    </tr>\n",
       "    <tr>\n",
       "      <th>host_id</th>\n",
       "      <td>0.000000</td>\n",
       "    </tr>\n",
       "    <tr>\n",
       "      <th>host_name</th>\n",
       "      <td>0.014600</td>\n",
       "    </tr>\n",
       "    <tr>\n",
       "      <th>neighbourhood_group</th>\n",
       "      <td>51.252046</td>\n",
       "    </tr>\n",
       "    <tr>\n",
       "      <th>neighbourhood</th>\n",
       "      <td>0.000000</td>\n",
       "    </tr>\n",
       "    <tr>\n",
       "      <th>latitude</th>\n",
       "      <td>0.000000</td>\n",
       "    </tr>\n",
       "    <tr>\n",
       "      <th>longitude</th>\n",
       "      <td>0.000000</td>\n",
       "    </tr>\n",
       "    <tr>\n",
       "      <th>room_type</th>\n",
       "      <td>0.000000</td>\n",
       "    </tr>\n",
       "    <tr>\n",
       "      <th>price</th>\n",
       "      <td>0.000000</td>\n",
       "    </tr>\n",
       "    <tr>\n",
       "      <th>minimum_nights</th>\n",
       "      <td>0.000000</td>\n",
       "    </tr>\n",
       "    <tr>\n",
       "      <th>number_of_reviews</th>\n",
       "      <td>0.000000</td>\n",
       "    </tr>\n",
       "    <tr>\n",
       "      <th>last_review</th>\n",
       "      <td>21.502455</td>\n",
       "    </tr>\n",
       "    <tr>\n",
       "      <th>reviews_per_month</th>\n",
       "      <td>21.502455</td>\n",
       "    </tr>\n",
       "    <tr>\n",
       "      <th>calculated_host_listings_count</th>\n",
       "      <td>0.000000</td>\n",
       "    </tr>\n",
       "    <tr>\n",
       "      <th>availability_365</th>\n",
       "      <td>0.000000</td>\n",
       "    </tr>\n",
       "    <tr>\n",
       "      <th>city</th>\n",
       "      <td>0.000000</td>\n",
       "    </tr>\n",
       "  </tbody>\n",
       "</table>\n",
       "</div>"
      ],
      "text/plain": [
       "                                Precent Of Missing Values\n",
       "id                                               0.000000\n",
       "name                                             0.012388\n",
       "host_id                                          0.000000\n",
       "host_name                                        0.014600\n",
       "neighbourhood_group                             51.252046\n",
       "neighbourhood                                    0.000000\n",
       "latitude                                         0.000000\n",
       "longitude                                        0.000000\n",
       "room_type                                        0.000000\n",
       "price                                            0.000000\n",
       "minimum_nights                                   0.000000\n",
       "number_of_reviews                                0.000000\n",
       "last_review                                     21.502455\n",
       "reviews_per_month                               21.502455\n",
       "calculated_host_listings_count                   0.000000\n",
       "availability_365                                 0.000000\n",
       "city                                             0.000000"
      ]
     },
     "execution_count": 7,
     "metadata": {},
     "output_type": "execute_result"
    }
   ],
   "source": [
    "missing = df_airbnb.isna().sum()\n",
    "missing /= df_airbnb.shape[0]\n",
    "missing *=100\n",
    "missing = missing.to_frame().rename(columns={0:'Precent Of Missing Values'})\n",
    "missing"
   ]
  },
  {
   "cell_type": "markdown",
   "metadata": {},
   "source": [
    "para el caso de esta base de datos no tenemos variables numericas con variables con missing values,\n",
    "dadpo este caso vamos a eliminar los regitros que son menos de 0.01 porciento que no tienen nombre de host,\n",
    "pero te dejo como puedes imputar en le caso de que tuvieras variables continuas numericas y discretas con missing values"
   ]
  },
  {
   "cell_type": "markdown",
   "metadata": {},
   "source": [
    "La variable no posee los sufientes registros para poder analizada mas de 50% la eliminaremos en este caso"
   ]
  },
  {
   "cell_type": "code",
   "execution_count": 8,
   "metadata": {},
   "outputs": [],
   "source": [
    "df_airbnb = df_airbnb[df_airbnb.price != 0]"
   ]
  },
  {
   "cell_type": "code",
   "execution_count": 9,
   "metadata": {},
   "outputs": [
    {
     "name": "stderr",
     "output_type": "stream",
     "text": [
      "/var/folders/w5/pkjvwsk57r5708nf4562sbl40000gn/T/ipykernel_53216/972132898.py:5: FutureWarning: Boolean inputs to the `inclusive` argument are deprecated infavour of `both` or `neither`.\n",
      "  df_airbnb_clean = df_airbnb[df_airbnb['price'].between(df_airbnb['price'].quantile(lower_bound), df_airbnb['price'].quantile(upper_bound), inclusive=True)]\n"
     ]
    }
   ],
   "source": [
    "# Removing Outliers - Variable respuesta\n",
    "\n",
    "lower_bound = .10\n",
    "upper_bound = .90\n",
    "df_airbnb_clean = df_airbnb[df_airbnb['price'].between(df_airbnb['price'].quantile(lower_bound), df_airbnb['price'].quantile(upper_bound), inclusive=True)]\n",
    "\n"
   ]
  },
  {
   "cell_type": "code",
   "execution_count": 59,
   "metadata": {},
   "outputs": [],
   "source": [
    "def detect_discrete_outliers(data):\n",
    "    threshold = 2\n",
    "    mean = data.median()\n",
    "    std = data.std()\n",
    "    z_score = (data - mean)/std \n",
    "    outliers = abs(z_score) > threshold\n",
    "\n",
    "    return outliers"
   ]
  },
  {
   "cell_type": "code",
   "execution_count": 60,
   "metadata": {},
   "outputs": [],
   "source": [
    "df_airbnb = df_airbnb[~df_airbnb.groupby('city')['price'].transform(detect_discrete_outliers)]"
   ]
  },
  {
   "cell_type": "code",
   "execution_count": 61,
   "metadata": {},
   "outputs": [
    {
     "name": "stdout",
     "output_type": "stream",
     "text": [
      "<class 'pandas.core.frame.DataFrame'>\n",
      "Int64Index: 106729 entries, 0 to 112915\n",
      "Data columns (total 20 columns):\n",
      " #   Column                          Non-Null Count   Dtype  \n",
      "---  ------                          --------------   -----  \n",
      " 0   id                              106729 non-null  int64  \n",
      " 1   name                            106729 non-null  object \n",
      " 2   host_id                         106729 non-null  int64  \n",
      " 3   host_name                       106712 non-null  object \n",
      " 4   neighbourhood_group             50206 non-null   object \n",
      " 5   neighbourhood                   106729 non-null  object \n",
      " 6   latitude                        106729 non-null  float64\n",
      " 7   longitude                       106729 non-null  float64\n",
      " 8   room_type                       106729 non-null  object \n",
      " 9   price                           106729 non-null  int64  \n",
      " 10  minimum_nights                  106729 non-null  int64  \n",
      " 11  number_of_reviews               106729 non-null  int64  \n",
      " 12  last_review                     106729 non-null  object \n",
      " 13  reviews_per_month               106729 non-null  float64\n",
      " 14  calculated_host_listings_count  106729 non-null  int64  \n",
      " 15  availability_365                106729 non-null  int64  \n",
      " 16  city                            106729 non-null  object \n",
      " 17  description                     106729 non-null  object \n",
      " 18  Name_new                        106729 non-null  object \n",
      " 19  Geo_cl                          106729 non-null  int32  \n",
      "dtypes: float64(3), int32(1), int64(7), object(9)\n",
      "memory usage: 16.7+ MB\n"
     ]
    }
   ],
   "source": [
    "df_airbnb.info()"
   ]
  },
  {
   "cell_type": "code",
   "execution_count": 62,
   "metadata": {},
   "outputs": [],
   "source": [
    "# Removing Outliers - Variable explicativa\n",
    "\n",
    "df_airbnb = df_airbnb[df_airbnb['number_of_reviews'] > 0]\n",
    "df_airbnb = df_airbnb[df_airbnb['calculated_host_listings_count'] < 10]\n",
    "df_airbnb = df_airbnb[df_airbnb['number_of_reviews'] < 200]\n",
    "df_airbnb = df_airbnb[df_airbnb['minimum_nights'] < 10]\n",
    "df_airbnb = df_airbnb[df_airbnb['reviews_per_month'] < 5]"
   ]
  },
  {
   "cell_type": "markdown",
   "metadata": {},
   "source": [
    "Texmining Name description"
   ]
  },
  {
   "cell_type": "markdown",
   "metadata": {},
   "source": [
    "En lenguaje natural NLP, la colección de texto descriptivo se conoce como corpus. Esto es una matrix document-term(una lista de términos puede verse como un diccionario). Para reducir el número de términos y centrarse en los más importantes por documento, se eliminan las palabras que no están en el lenguaje de interés y las palabras vacías(Stopwords). Las palabras se lematizan(Ordene para agrupar formas flexionadas o variantes de la misma palabra) y se utiliza un tokenizador RegEx para ignorar cadenas no alfanuméricas.\n",
    " Las palabras restantes se convierten luego en una una lista de word_id, word_frequency 2-tuplas para Document-Term-Matrix.\n",
    "Con esto en su lugar, podemos usar la asignación de Dirichlet latente (LDA) para descubrir temas inherentes al corpus, clasificar el corpus de acuerdo con los temas aprendidos y usarlos como características para el modelo de regresión.\n",
    "\n"
   ]
  },
  {
   "cell_type": "markdown",
   "metadata": {},
   "source": [
    "hagamos un espacio en este notebook para realizar un analisis paralelo pero independiente a el precio, \n",
    "pesemos en este momento en la variale name la cual es la descripcion del listing como si fuera un solo\n",
    "data set que queremos analizar"
   ]
  },
  {
   "cell_type": "code",
   "execution_count": 14,
   "metadata": {},
   "outputs": [],
   "source": [
    "# 1. definir el vector de texto"
   ]
  },
  {
   "cell_type": "code",
   "execution_count": 63,
   "metadata": {},
   "outputs": [],
   "source": [
    "\n",
    "from wordcloud import WordCloud, ImageColorGenerator,STOPWORDS\n",
    "from PIL import Image\n",
    "import matplotlib.pyplot as plt\n",
    "import nltk\n",
    "from nltk.tokenize import word_tokenize\n",
    "from nltk.corpus import stopwords\n",
    "#nltk.download()"
   ]
  },
  {
   "cell_type": "code",
   "execution_count": 64,
   "metadata": {},
   "outputs": [],
   "source": [
    "\n",
    "stop_words = set(stopwords.words('english')) "
   ]
  },
  {
   "cell_type": "code",
   "execution_count": 65,
   "metadata": {},
   "outputs": [
    {
     "data": {
      "text/plain": [
       "count                  106729\n",
       "unique                 100104\n",
       "top       home away from home\n",
       "freq                      102\n",
       "Name: name, dtype: object"
      ]
     },
     "execution_count": 65,
     "metadata": {},
     "output_type": "execute_result"
    }
   ],
   "source": [
    "df_airbnb['name'].describe()"
   ]
  },
  {
   "cell_type": "code",
   "execution_count": 66,
   "metadata": {},
   "outputs": [],
   "source": [
    "df_airbnb.name = df_airbnb.name.astype(str)\n",
    "df_airbnb.name=df_airbnb.name.str.lower()\n",
    "df_airbnb.name=df_airbnb.name.replace(['â','-','@','$','&','!','ã','â'],'',regex=True)\n"
   ]
  },
  {
   "cell_type": "code",
   "execution_count": 67,
   "metadata": {},
   "outputs": [
    {
     "data": {
      "image/png": "[encoded data removed]",
      "text/plain": [
       "<Figure size 576x864 with 1 Axes>"
      ]
     },
     "metadata": {},
     "output_type": "display_data"
    }
   ],
   "source": [
    "comment_words = '' \n",
    "stopwords = set(STOPWORDS) \n",
    "for val in df_airbnb_clean.name: \n",
    "    val = str(val) \n",
    "    tokens = val.split() \n",
    "    for i in range(len(tokens)): \n",
    "        tokens[i] = tokens[i].lower()       \n",
    "    comment_words += \" \".join(tokens)+\" \"  \n",
    "wordcloud = WordCloud(width = 800, height = 800, \n",
    "                      colormap=\"Blues\",\n",
    "                      background_color ='grey', \n",
    "                      stopwords = stopwords, \n",
    "                        min_font_size = 10).generate(comment_words)                        \n",
    "plt.figure(figsize = (8, 12), facecolor = None) \n",
    "plt.imshow(wordcloud) \n",
    "plt.axis(\"off\") \n",
    "plt.tight_layout(pad = 0)   \n",
    "plt.show() \n",
    "\n"
   ]
  },
  {
   "cell_type": "code",
   "execution_count": 68,
   "metadata": {},
   "outputs": [],
   "source": [
    "df_airbnb[\"description\"] = df_airbnb[\"name\"].apply(nltk.word_tokenize)\n",
    "df_airbnb[\"description\"] =df_airbnb[\"description\"].apply(lambda x: [item for item in x if item not in stop_words])\n"
   ]
  },
  {
   "cell_type": "code",
   "execution_count": 69,
   "metadata": {},
   "outputs": [
    {
     "data": {
      "text/plain": [
       "0    [charming, victorian, home, twin, beds, +, bre...\n",
       "1                                   [terrace, cottage]\n",
       "2                                   [blue, gate, west]\n",
       "3                      [asheville, dreamer, 's, cabin]\n",
       "4       [luxurious, mountain, guest, suite, apartment]\n",
       "Name: description, dtype: object"
      ]
     },
     "execution_count": 69,
     "metadata": {},
     "output_type": "execute_result"
    }
   ],
   "source": [
    "df_airbnb[\"description\"].head()"
   ]
  },
  {
   "cell_type": "code",
   "execution_count": 70,
   "metadata": {},
   "outputs": [
    {
     "data": {
      "text/plain": [
       "1       private\n",
       "2          room\n",
       "3       bedroom\n",
       "4          home\n",
       "5          cozy\n",
       "6     apartment\n",
       "8         beach\n",
       "9             2\n",
       "10       studio\n",
       "11         near\n",
       "12        house\n",
       "13            1\n",
       "14     spacious\n",
       "15     downtown\n",
       "16          apt\n",
       "17       modern\n",
       "18    beautiful\n",
       "19         park\n",
       "20        suite\n",
       "21        condo\n",
       "22            )\n",
       "23            (\n",
       "24         view\n",
       "25        heart\n",
       "26         bath\n",
       "27        close\n",
       "28     location\n",
       "29          new\n",
       "30          bed\n",
       "Name: ngrams, dtype: object"
      ]
     },
     "execution_count": 70,
     "metadata": {},
     "output_type": "execute_result"
    }
   ],
   "source": [
    "val=pd.Series(np.concatenate([x for x in df_airbnb.description])).value_counts()\n",
    "val = pd.DataFrame({'ngrams': list(val.keys()),\n",
    "                   'count': list(val[:])})\n",
    "val=val[val.ngrams != '.' ]\n",
    "val=val.head(30)\n",
    "val=val['ngrams'][1:30]\n",
    "val"
   ]
  },
  {
   "cell_type": "code",
   "execution_count": 71,
   "metadata": {},
   "outputs": [
    {
     "name": "stdout",
     "output_type": "stream",
     "text": [
      "<class 'pandas.core.frame.DataFrame'>\n",
      "Int64Index: 106729 entries, 0 to 112915\n",
      "Data columns (total 20 columns):\n",
      " #   Column                          Non-Null Count   Dtype  \n",
      "---  ------                          --------------   -----  \n",
      " 0   id                              106729 non-null  int64  \n",
      " 1   name                            106729 non-null  object \n",
      " 2   host_id                         106729 non-null  int64  \n",
      " 3   host_name                       106712 non-null  object \n",
      " 4   neighbourhood_group             50206 non-null   object \n",
      " 5   neighbourhood                   106729 non-null  object \n",
      " 6   latitude                        106729 non-null  float64\n",
      " 7   longitude                       106729 non-null  float64\n",
      " 8   room_type                       106729 non-null  object \n",
      " 9   price                           106729 non-null  int64  \n",
      " 10  minimum_nights                  106729 non-null  int64  \n",
      " 11  number_of_reviews               106729 non-null  int64  \n",
      " 12  last_review                     106729 non-null  object \n",
      " 13  reviews_per_month               106729 non-null  float64\n",
      " 14  calculated_host_listings_count  106729 non-null  int64  \n",
      " 15  availability_365                106729 non-null  int64  \n",
      " 16  city                            106729 non-null  object \n",
      " 17  description                     106729 non-null  object \n",
      " 18  Name_new                        106729 non-null  object \n",
      " 19  Geo_cl                          106729 non-null  int32  \n",
      "dtypes: float64(3), int32(1), int64(7), object(9)\n",
      "memory usage: 16.7+ MB\n"
     ]
    }
   ],
   "source": [
    "def inner(text):    \n",
    "    for word in text.split(' '):\n",
    "        for c in val:\n",
    "            if word==c:\n",
    "               return c\n",
    "    return 'Null'       \n",
    "c1=[]\n",
    "for text in df_airbnb['name']:\n",
    "    c1.append(inner(text))\n",
    "df_airbnb['Name_new']=c1\n",
    "df_airbnb.info()"
   ]
  },
  {
   "cell_type": "code",
   "execution_count": 72,
   "metadata": {},
   "outputs": [
    {
     "data": {
      "text/plain": [
       "Null         25.315519\n",
       "private       9.440733\n",
       "cozy          6.874420\n",
       "room          5.541137\n",
       "home          4.384001\n",
       "spacious      3.818081\n",
       "studio        3.320560\n",
       "modern        3.189386\n",
       "bedroom       3.153782\n",
       "beautiful     3.143476\n",
       "apartment     3.021672\n",
       "beach         3.001059\n",
       "house         2.915796\n",
       "2             2.851146\n",
       "1             2.608476\n",
       "new           2.031313\n",
       "downtown      1.747416\n",
       "suite         1.737110\n",
       "condo         1.619054\n",
       "near          1.537539\n",
       "view          1.496313\n",
       "apt           1.454150\n",
       "park          1.391374\n",
       "location      1.215227\n",
       "close         0.994107\n",
       "heart         0.991296\n",
       "bed           0.895727\n",
       "bath          0.255788\n",
       "(             0.044974\n",
       ")             0.009370\n",
       "Name: Name_new, dtype: float64"
      ]
     },
     "execution_count": 72,
     "metadata": {},
     "output_type": "execute_result"
    }
   ],
   "source": [
    "df_airbnb['Name_new'].value_counts(normalize=True)*100"
   ]
  },
  {
   "cell_type": "code",
   "execution_count": 73,
   "metadata": {},
   "outputs": [
    {
     "data": {
      "text/html": [
       "<div>\n",
       "<style scoped>\n",
       "    .dataframe tbody tr th:only-of-type {\n",
       "        vertical-align: middle;\n",
       "    }\n",
       "\n",
       "    .dataframe tbody tr th {\n",
       "        vertical-align: top;\n",
       "    }\n",
       "\n",
       "    .dataframe thead th {\n",
       "        text-align: right;\n",
       "    }\n",
       "</style>\n",
       "<table border=\"1\" class=\"dataframe\">\n",
       "  <thead>\n",
       "    <tr style=\"text-align: right;\">\n",
       "      <th></th>\n",
       "      <th>id</th>\n",
       "      <th>name</th>\n",
       "      <th>host_id</th>\n",
       "      <th>host_name</th>\n",
       "      <th>neighbourhood_group</th>\n",
       "      <th>neighbourhood</th>\n",
       "      <th>latitude</th>\n",
       "      <th>longitude</th>\n",
       "      <th>room_type</th>\n",
       "      <th>price</th>\n",
       "      <th>minimum_nights</th>\n",
       "      <th>number_of_reviews</th>\n",
       "      <th>last_review</th>\n",
       "      <th>reviews_per_month</th>\n",
       "      <th>calculated_host_listings_count</th>\n",
       "      <th>availability_365</th>\n",
       "      <th>city</th>\n",
       "      <th>description</th>\n",
       "      <th>Name_new</th>\n",
       "      <th>Geo_cl</th>\n",
       "    </tr>\n",
       "  </thead>\n",
       "  <tbody>\n",
       "    <tr>\n",
       "      <th>0</th>\n",
       "      <td>38585</td>\n",
       "      <td>charming victorian home  twin beds + breakfast</td>\n",
       "      <td>165529</td>\n",
       "      <td>Evelyne</td>\n",
       "      <td>NaN</td>\n",
       "      <td>28804</td>\n",
       "      <td>35.65146</td>\n",
       "      <td>-82.62792</td>\n",
       "      <td>Private room</td>\n",
       "      <td>60</td>\n",
       "      <td>1</td>\n",
       "      <td>138</td>\n",
       "      <td>16/02/20</td>\n",
       "      <td>1.14</td>\n",
       "      <td>1</td>\n",
       "      <td>0</td>\n",
       "      <td>Asheville</td>\n",
       "      <td>[charming, victorian, home, twin, beds, +, bre...</td>\n",
       "      <td>home</td>\n",
       "      <td>2</td>\n",
       "    </tr>\n",
       "    <tr>\n",
       "      <th>1</th>\n",
       "      <td>209068</td>\n",
       "      <td>terrace cottage</td>\n",
       "      <td>1029919</td>\n",
       "      <td>Kevin</td>\n",
       "      <td>NaN</td>\n",
       "      <td>28804</td>\n",
       "      <td>35.61856</td>\n",
       "      <td>-82.55276</td>\n",
       "      <td>Entire home/apt</td>\n",
       "      <td>134</td>\n",
       "      <td>7</td>\n",
       "      <td>54</td>\n",
       "      <td>14/01/20</td>\n",
       "      <td>0.49</td>\n",
       "      <td>1</td>\n",
       "      <td>294</td>\n",
       "      <td>Asheville</td>\n",
       "      <td>[terrace, cottage]</td>\n",
       "      <td>Null</td>\n",
       "      <td>2</td>\n",
       "    </tr>\n",
       "    <tr>\n",
       "      <th>2</th>\n",
       "      <td>213006</td>\n",
       "      <td>blue gate west</td>\n",
       "      <td>1098412</td>\n",
       "      <td>Susanne</td>\n",
       "      <td>NaN</td>\n",
       "      <td>28806</td>\n",
       "      <td>35.58345</td>\n",
       "      <td>-82.59713</td>\n",
       "      <td>Private room</td>\n",
       "      <td>48</td>\n",
       "      <td>1</td>\n",
       "      <td>137</td>\n",
       "      <td>30/11/19</td>\n",
       "      <td>1.35</td>\n",
       "      <td>1</td>\n",
       "      <td>0</td>\n",
       "      <td>Asheville</td>\n",
       "      <td>[blue, gate, west]</td>\n",
       "      <td>Null</td>\n",
       "      <td>2</td>\n",
       "    </tr>\n",
       "    <tr>\n",
       "      <th>3</th>\n",
       "      <td>246315</td>\n",
       "      <td>asheville dreamer's cabin</td>\n",
       "      <td>1292070</td>\n",
       "      <td>Annie</td>\n",
       "      <td>NaN</td>\n",
       "      <td>28805</td>\n",
       "      <td>35.59635</td>\n",
       "      <td>-82.50655</td>\n",
       "      <td>Private room</td>\n",
       "      <td>65</td>\n",
       "      <td>3</td>\n",
       "      <td>57</td>\n",
       "      <td>30/10/19</td>\n",
       "      <td>0.53</td>\n",
       "      <td>2</td>\n",
       "      <td>106</td>\n",
       "      <td>Asheville</td>\n",
       "      <td>[asheville, dreamer, 's, cabin]</td>\n",
       "      <td>Null</td>\n",
       "      <td>2</td>\n",
       "    </tr>\n",
       "    <tr>\n",
       "      <th>4</th>\n",
       "      <td>427497</td>\n",
       "      <td>luxurious mountain guest suite apartment</td>\n",
       "      <td>1909922</td>\n",
       "      <td>Milan</td>\n",
       "      <td>NaN</td>\n",
       "      <td>28803</td>\n",
       "      <td>35.49111</td>\n",
       "      <td>-82.48438</td>\n",
       "      <td>Entire home/apt</td>\n",
       "      <td>125</td>\n",
       "      <td>2</td>\n",
       "      <td>40</td>\n",
       "      <td>17/08/20</td>\n",
       "      <td>0.42</td>\n",
       "      <td>1</td>\n",
       "      <td>339</td>\n",
       "      <td>Asheville</td>\n",
       "      <td>[luxurious, mountain, guest, suite, apartment]</td>\n",
       "      <td>suite</td>\n",
       "      <td>2</td>\n",
       "    </tr>\n",
       "  </tbody>\n",
       "</table>\n",
       "</div>"
      ],
      "text/plain": [
       "       id                                            name  host_id host_name  \\\n",
       "0   38585  charming victorian home  twin beds + breakfast   165529   Evelyne   \n",
       "1  209068                                 terrace cottage  1029919     Kevin   \n",
       "2  213006                                  blue gate west  1098412   Susanne   \n",
       "3  246315                       asheville dreamer's cabin  1292070     Annie   \n",
       "4  427497        luxurious mountain guest suite apartment  1909922     Milan   \n",
       "\n",
       "  neighbourhood_group neighbourhood  latitude  longitude        room_type  \\\n",
       "0                 NaN         28804  35.65146  -82.62792     Private room   \n",
       "1                 NaN         28804  35.61856  -82.55276  Entire home/apt   \n",
       "2                 NaN         28806  35.58345  -82.59713     Private room   \n",
       "3                 NaN         28805  35.59635  -82.50655     Private room   \n",
       "4                 NaN         28803  35.49111  -82.48438  Entire home/apt   \n",
       "\n",
       "   price  minimum_nights  number_of_reviews last_review  reviews_per_month  \\\n",
       "0     60               1                138    16/02/20               1.14   \n",
       "1    134               7                 54    14/01/20               0.49   \n",
       "2     48               1                137    30/11/19               1.35   \n",
       "3     65               3                 57    30/10/19               0.53   \n",
       "4    125               2                 40    17/08/20               0.42   \n",
       "\n",
       "   calculated_host_listings_count  availability_365       city  \\\n",
       "0                               1                 0  Asheville   \n",
       "1                               1               294  Asheville   \n",
       "2                               1                 0  Asheville   \n",
       "3                               2               106  Asheville   \n",
       "4                               1               339  Asheville   \n",
       "\n",
       "                                         description Name_new  Geo_cl  \n",
       "0  [charming, victorian, home, twin, beds, +, bre...     home       2  \n",
       "1                                 [terrace, cottage]     Null       2  \n",
       "2                                 [blue, gate, west]     Null       2  \n",
       "3                    [asheville, dreamer, 's, cabin]     Null       2  \n",
       "4     [luxurious, mountain, guest, suite, apartment]    suite       2  "
      ]
     },
     "execution_count": 73,
     "metadata": {},
     "output_type": "execute_result"
    }
   ],
   "source": [
    "df_airbnb.head()"
   ]
  },
  {
   "cell_type": "markdown",
   "metadata": {},
   "source": [
    "# Geo"
   ]
  },
  {
   "cell_type": "markdown",
   "metadata": {},
   "source": [
    "El más popular y útil de los métodos no supervisados es el análisis de cluster el cual consiste en agrupar objetos por similitud, en grupos o conjuntos de manera que los miembros del mismo grupo tengan características similares. Es la tarea principal de la minería de datos exploratoria y es una técnica común en el análisis de datos estadísticos.\n",
    "\n",
    "\n",
    "Agrupamiento basado en conectividad (agrupamiento jerárquico)\n",
    "Agrupamiento basado en centroide\n",
    "Agrupamiento basado en distribuciones\n",
    "Agrupamiento basado en densidad\n",
    "\n",
    "Agrupamiento basado en centroide - KMeans\n",
    "En el agrupamiento basado en centroide, los grupos están representados por un vector central, el cual puede no necesariamente ser un miembro del conjunto de datos. Cuando el número de grupos está fijado a k, k-means da una definición formal como un problema de optimización: encontrar los k centros de los grupos y asignar los objetos al centro del grupo más cercano, tal que el cuadrado de las distancias del grupo al centro están minimizadas. Este problema de optimización es NP-duro, y por ello el objetivo común es buscar solo soluciones aproximadas. Un método aproximado bien conocido es el algoritmo de Lloyd,10​ a menudo referido como \"k-means\". Aun así solo encuentra un óptimo local, y generalmente se ejecuta varias veces con inicializaciones aleatorias. Variaciones de k-means a menudo incluyen otras optimizaciones como: escoger el mejor resultado de varias corridas, restringir el centroide a miembros del conjunto de datos (k-medoids), escoger medianas (k-medians), escoger los centros iniciales aleatoriamente (K-means++) o permitir una asignación de grupos difusa (Fuzzy c-means).\n",
    "\n",
    "La mayoría de los tipos de k-means requieren que el número de grupos sea especificado por adelantado, el cual está considerado una de las más grandes dificultades de estos algoritmos. Además, los algoritmos prefieren grupos de aproximadamente media similar, debido a que siempre asignarán un objeto al más cercano centroide. Esto a menudo provoca cortes incorrectos en los bordes de los grupos (lo cual no es una sorpresa ya que el algoritmo optimiza los centroides, no las fronteras).\n",
    "\n",
    "K-means tiene un número de propiedades teóricas interesantes. Primero, las particiones del espacio de datos son estructuras conocidas como esquemas de Voronoi. Segundo, está conceptualmente cerca de la clasificación de k-nearest neighborhood, y por tanto muy popular en aprendizaje de máquina. Tercero, puede ser visto como una variación de la clasificación basada en modelos, y el algoritmo de Lloyd como variación del algoritmo Expectation-maximization para el modelo que se discutirá debajo.\n"
   ]
  },
  {
   "cell_type": "code",
   "execution_count": 74,
   "metadata": {},
   "outputs": [],
   "source": [
    "from sklearn.cluster import KMeans"
   ]
  },
  {
   "cell_type": "code",
   "execution_count": 75,
   "metadata": {},
   "outputs": [],
   "source": [
    "Geospivot = df_airbnb.loc[:,('longitude','latitude' )]"
   ]
  },
  {
   "cell_type": "code",
   "execution_count": 76,
   "metadata": {},
   "outputs": [
    {
     "data": {
      "image/png": "[encoded data removed]",
      "text/plain": [
       "<Figure size 432x288 with 1 Axes>"
      ]
     },
     "metadata": {},
     "output_type": "display_data"
    }
   ],
   "source": [
    "\n",
    "wcss = []\n",
    "for i in range(1, 11):\n",
    "    kmeans = KMeans(n_clusters=i, init='k-means++', max_iter=300, n_init=15, random_state=0)\n",
    "    kmeans.fit(Geospivot)\n",
    "    wcss.append(kmeans.inertia_)\n",
    "plt.plot(range(1, 11), wcss)\n",
    "plt.title('Elbow Method')\n",
    "plt.xlabel('Number of clusters')\n",
    "plt.ylabel('WCSS')\n",
    "plt.show()"
   ]
  },
  {
   "cell_type": "code",
   "execution_count": 77,
   "metadata": {},
   "outputs": [],
   "source": [
    "km = KMeans(\n",
    "    n_clusters=6, init='random',\n",
    "    n_init=10, max_iter=300, \n",
    "    tol=1e-04, random_state=0\n",
    ")\n"
   ]
  },
  {
   "cell_type": "code",
   "execution_count": 78,
   "metadata": {},
   "outputs": [],
   "source": [
    "y_km = km.fit_predict(Geospivot)"
   ]
  },
  {
   "cell_type": "code",
   "execution_count": 79,
   "metadata": {},
   "outputs": [],
   "source": [
    "Geospivot['Geo_cl']= km.fit_predict(Geospivot)"
   ]
  },
  {
   "cell_type": "code",
   "execution_count": 80,
   "metadata": {},
   "outputs": [],
   "source": [
    "city = df_airbnb['city'].value_counts()"
   ]
  },
  {
   "cell_type": "code",
   "execution_count": 81,
   "metadata": {},
   "outputs": [
    {
     "data": {
      "text/html": [
       "<div>\n",
       "<style scoped>\n",
       "    .dataframe tbody tr th:only-of-type {\n",
       "        vertical-align: middle;\n",
       "    }\n",
       "\n",
       "    .dataframe tbody tr th {\n",
       "        vertical-align: top;\n",
       "    }\n",
       "\n",
       "    .dataframe thead th {\n",
       "        text-align: right;\n",
       "    }\n",
       "</style>\n",
       "<table border=\"1\" class=\"dataframe\">\n",
       "  <thead>\n",
       "    <tr style=\"text-align: right;\">\n",
       "      <th></th>\n",
       "      <th>city</th>\n",
       "    </tr>\n",
       "  </thead>\n",
       "  <tbody>\n",
       "    <tr>\n",
       "      <th>New York City</th>\n",
       "      <td>28.0</td>\n",
       "    </tr>\n",
       "    <tr>\n",
       "      <th>Los Angeles</th>\n",
       "      <td>27.0</td>\n",
       "    </tr>\n",
       "    <tr>\n",
       "      <th>Hawaii</th>\n",
       "      <td>26.0</td>\n",
       "    </tr>\n",
       "    <tr>\n",
       "      <th>San Diego</th>\n",
       "      <td>25.0</td>\n",
       "    </tr>\n",
       "    <tr>\n",
       "      <th>Broward County</th>\n",
       "      <td>24.0</td>\n",
       "    </tr>\n",
       "    <tr>\n",
       "      <th>Austin</th>\n",
       "      <td>23.0</td>\n",
       "    </tr>\n",
       "    <tr>\n",
       "      <th>Washington D.C.</th>\n",
       "      <td>22.0</td>\n",
       "    </tr>\n",
       "    <tr>\n",
       "      <th>San Clara Country</th>\n",
       "      <td>21.0</td>\n",
       "    </tr>\n",
       "    <tr>\n",
       "      <th>Chicago</th>\n",
       "      <td>20.0</td>\n",
       "    </tr>\n",
       "    <tr>\n",
       "      <th>Clark County</th>\n",
       "      <td>19.0</td>\n",
       "    </tr>\n",
       "    <tr>\n",
       "      <th>New Orleans</th>\n",
       "      <td>18.0</td>\n",
       "    </tr>\n",
       "    <tr>\n",
       "      <th>Nashville</th>\n",
       "      <td>17.0</td>\n",
       "    </tr>\n",
       "    <tr>\n",
       "      <th>Twin Cities MSA</th>\n",
       "      <td>16.0</td>\n",
       "    </tr>\n",
       "    <tr>\n",
       "      <th>Rhode Island</th>\n",
       "      <td>15.0</td>\n",
       "    </tr>\n",
       "    <tr>\n",
       "      <th>Seattle</th>\n",
       "      <td>14.0</td>\n",
       "    </tr>\n",
       "    <tr>\n",
       "      <th>San Francisco</th>\n",
       "      <td>13.0</td>\n",
       "    </tr>\n",
       "    <tr>\n",
       "      <th>Portland</th>\n",
       "      <td>12.0</td>\n",
       "    </tr>\n",
       "    <tr>\n",
       "      <th>Denver</th>\n",
       "      <td>11.0</td>\n",
       "    </tr>\n",
       "    <tr>\n",
       "      <th>Oakland</th>\n",
       "      <td>10.0</td>\n",
       "    </tr>\n",
       "    <tr>\n",
       "      <th>San Mateo County</th>\n",
       "      <td>9.0</td>\n",
       "    </tr>\n",
       "    <tr>\n",
       "      <th>Asheville</th>\n",
       "      <td>8.0</td>\n",
       "    </tr>\n",
       "    <tr>\n",
       "      <th>Jersey City</th>\n",
       "      <td>7.0</td>\n",
       "    </tr>\n",
       "    <tr>\n",
       "      <th>Santa Cruz County</th>\n",
       "      <td>6.0</td>\n",
       "    </tr>\n",
       "    <tr>\n",
       "      <th>Boston</th>\n",
       "      <td>5.0</td>\n",
       "    </tr>\n",
       "    <tr>\n",
       "      <th>Columbus</th>\n",
       "      <td>4.0</td>\n",
       "    </tr>\n",
       "    <tr>\n",
       "      <th>Cambridge</th>\n",
       "      <td>3.0</td>\n",
       "    </tr>\n",
       "    <tr>\n",
       "      <th>Salem</th>\n",
       "      <td>2.0</td>\n",
       "    </tr>\n",
       "    <tr>\n",
       "      <th>Pacific Grove</th>\n",
       "      <td>1.0</td>\n",
       "    </tr>\n",
       "  </tbody>\n",
       "</table>\n",
       "</div>"
      ],
      "text/plain": [
       "                   city\n",
       "New York City      28.0\n",
       "Los Angeles        27.0\n",
       "Hawaii             26.0\n",
       "San Diego          25.0\n",
       "Broward County     24.0\n",
       "Austin             23.0\n",
       "Washington D.C.    22.0\n",
       "San Clara Country  21.0\n",
       "Chicago            20.0\n",
       "Clark County       19.0\n",
       "New Orleans        18.0\n",
       "Nashville          17.0\n",
       "Twin Cities MSA    16.0\n",
       "Rhode Island       15.0\n",
       "Seattle            14.0\n",
       "San Francisco      13.0\n",
       "Portland           12.0\n",
       "Denver             11.0\n",
       "Oakland            10.0\n",
       "San Mateo County    9.0\n",
       "Asheville           8.0\n",
       "Jersey City         7.0\n",
       "Santa Cruz County   6.0\n",
       "Boston              5.0\n",
       "Columbus            4.0\n",
       "Cambridge           3.0\n",
       "Salem               2.0\n",
       "Pacific Grove       1.0"
      ]
     },
     "execution_count": 81,
     "metadata": {},
     "output_type": "execute_result"
    }
   ],
   "source": [
    "pd.DataFrame(city.rank())"
   ]
  },
  {
   "cell_type": "code",
   "execution_count": 106,
   "metadata": {
    "id": "T4Oftg1_jcmN",
    "tags": []
   },
   "outputs": [],
   "source": [
    "df_airbnb = pd.merge(df_airbnb,Geospivot,how=\"inner\",on=['latitude','longitude']  )"
   ]
  },
  {
   "cell_type": "code",
   "execution_count": 107,
   "metadata": {},
   "outputs": [
    {
     "data": {
      "text/html": [
       "<div>\n",
       "<style scoped>\n",
       "    .dataframe tbody tr th:only-of-type {\n",
       "        vertical-align: middle;\n",
       "    }\n",
       "\n",
       "    .dataframe tbody tr th {\n",
       "        vertical-align: top;\n",
       "    }\n",
       "\n",
       "    .dataframe thead th {\n",
       "        text-align: right;\n",
       "    }\n",
       "</style>\n",
       "<table border=\"1\" class=\"dataframe\">\n",
       "  <thead>\n",
       "    <tr style=\"text-align: right;\">\n",
       "      <th></th>\n",
       "      <th>id</th>\n",
       "      <th>name</th>\n",
       "      <th>host_id</th>\n",
       "      <th>host_name</th>\n",
       "      <th>neighbourhood_group</th>\n",
       "      <th>neighbourhood</th>\n",
       "      <th>latitude</th>\n",
       "      <th>longitude</th>\n",
       "      <th>room_type</th>\n",
       "      <th>price</th>\n",
       "      <th>...</th>\n",
       "      <th>last_review</th>\n",
       "      <th>reviews_per_month</th>\n",
       "      <th>calculated_host_listings_count</th>\n",
       "      <th>availability_365</th>\n",
       "      <th>city</th>\n",
       "      <th>description</th>\n",
       "      <th>Name_new</th>\n",
       "      <th>Geo_cl_x</th>\n",
       "      <th>Geo_cl_y</th>\n",
       "      <th>Geo_cl</th>\n",
       "    </tr>\n",
       "  </thead>\n",
       "  <tbody>\n",
       "    <tr>\n",
       "      <th>0</th>\n",
       "      <td>38585</td>\n",
       "      <td>charming victorian home  twin beds + breakfast</td>\n",
       "      <td>165529</td>\n",
       "      <td>Evelyne</td>\n",
       "      <td>NaN</td>\n",
       "      <td>28804</td>\n",
       "      <td>35.65146</td>\n",
       "      <td>-82.62792</td>\n",
       "      <td>Private room</td>\n",
       "      <td>60</td>\n",
       "      <td>...</td>\n",
       "      <td>16/02/20</td>\n",
       "      <td>1.14</td>\n",
       "      <td>1</td>\n",
       "      <td>0</td>\n",
       "      <td>Asheville</td>\n",
       "      <td>[charming, victorian, home, twin, beds, +, bre...</td>\n",
       "      <td>home</td>\n",
       "      <td>2</td>\n",
       "      <td>2</td>\n",
       "      <td>2</td>\n",
       "    </tr>\n",
       "    <tr>\n",
       "      <th>1</th>\n",
       "      <td>209068</td>\n",
       "      <td>terrace cottage</td>\n",
       "      <td>1029919</td>\n",
       "      <td>Kevin</td>\n",
       "      <td>NaN</td>\n",
       "      <td>28804</td>\n",
       "      <td>35.61856</td>\n",
       "      <td>-82.55276</td>\n",
       "      <td>Entire home/apt</td>\n",
       "      <td>134</td>\n",
       "      <td>...</td>\n",
       "      <td>14/01/20</td>\n",
       "      <td>0.49</td>\n",
       "      <td>1</td>\n",
       "      <td>294</td>\n",
       "      <td>Asheville</td>\n",
       "      <td>[terrace, cottage]</td>\n",
       "      <td>Null</td>\n",
       "      <td>2</td>\n",
       "      <td>2</td>\n",
       "      <td>2</td>\n",
       "    </tr>\n",
       "    <tr>\n",
       "      <th>2</th>\n",
       "      <td>213006</td>\n",
       "      <td>blue gate west</td>\n",
       "      <td>1098412</td>\n",
       "      <td>Susanne</td>\n",
       "      <td>NaN</td>\n",
       "      <td>28806</td>\n",
       "      <td>35.58345</td>\n",
       "      <td>-82.59713</td>\n",
       "      <td>Private room</td>\n",
       "      <td>48</td>\n",
       "      <td>...</td>\n",
       "      <td>30/11/19</td>\n",
       "      <td>1.35</td>\n",
       "      <td>1</td>\n",
       "      <td>0</td>\n",
       "      <td>Asheville</td>\n",
       "      <td>[blue, gate, west]</td>\n",
       "      <td>Null</td>\n",
       "      <td>2</td>\n",
       "      <td>2</td>\n",
       "      <td>2</td>\n",
       "    </tr>\n",
       "    <tr>\n",
       "      <th>3</th>\n",
       "      <td>246315</td>\n",
       "      <td>asheville dreamer's cabin</td>\n",
       "      <td>1292070</td>\n",
       "      <td>Annie</td>\n",
       "      <td>NaN</td>\n",
       "      <td>28805</td>\n",
       "      <td>35.59635</td>\n",
       "      <td>-82.50655</td>\n",
       "      <td>Private room</td>\n",
       "      <td>65</td>\n",
       "      <td>...</td>\n",
       "      <td>30/10/19</td>\n",
       "      <td>0.53</td>\n",
       "      <td>2</td>\n",
       "      <td>106</td>\n",
       "      <td>Asheville</td>\n",
       "      <td>[asheville, dreamer, 's, cabin]</td>\n",
       "      <td>Null</td>\n",
       "      <td>2</td>\n",
       "      <td>2</td>\n",
       "      <td>2</td>\n",
       "    </tr>\n",
       "    <tr>\n",
       "      <th>4</th>\n",
       "      <td>427497</td>\n",
       "      <td>luxurious mountain guest suite apartment</td>\n",
       "      <td>1909922</td>\n",
       "      <td>Milan</td>\n",
       "      <td>NaN</td>\n",
       "      <td>28803</td>\n",
       "      <td>35.49111</td>\n",
       "      <td>-82.48438</td>\n",
       "      <td>Entire home/apt</td>\n",
       "      <td>125</td>\n",
       "      <td>...</td>\n",
       "      <td>17/08/20</td>\n",
       "      <td>0.42</td>\n",
       "      <td>1</td>\n",
       "      <td>339</td>\n",
       "      <td>Asheville</td>\n",
       "      <td>[luxurious, mountain, guest, suite, apartment]</td>\n",
       "      <td>suite</td>\n",
       "      <td>2</td>\n",
       "      <td>2</td>\n",
       "      <td>2</td>\n",
       "    </tr>\n",
       "  </tbody>\n",
       "</table>\n",
       "<p>5 rows × 22 columns</p>\n",
       "</div>"
      ],
      "text/plain": [
       "       id                                            name  host_id host_name  \\\n",
       "0   38585  charming victorian home  twin beds + breakfast   165529   Evelyne   \n",
       "1  209068                                 terrace cottage  1029919     Kevin   \n",
       "2  213006                                  blue gate west  1098412   Susanne   \n",
       "3  246315                       asheville dreamer's cabin  1292070     Annie   \n",
       "4  427497        luxurious mountain guest suite apartment  1909922     Milan   \n",
       "\n",
       "  neighbourhood_group neighbourhood  latitude  longitude        room_type  \\\n",
       "0                 NaN         28804  35.65146  -82.62792     Private room   \n",
       "1                 NaN         28804  35.61856  -82.55276  Entire home/apt   \n",
       "2                 NaN         28806  35.58345  -82.59713     Private room   \n",
       "3                 NaN         28805  35.59635  -82.50655     Private room   \n",
       "4                 NaN         28803  35.49111  -82.48438  Entire home/apt   \n",
       "\n",
       "   price  ...  last_review  reviews_per_month calculated_host_listings_count  \\\n",
       "0     60  ...     16/02/20               1.14                              1   \n",
       "1    134  ...     14/01/20               0.49                              1   \n",
       "2     48  ...     30/11/19               1.35                              1   \n",
       "3     65  ...     30/10/19               0.53                              2   \n",
       "4    125  ...     17/08/20               0.42                              1   \n",
       "\n",
       "   availability_365       city  \\\n",
       "0                 0  Asheville   \n",
       "1               294  Asheville   \n",
       "2                 0  Asheville   \n",
       "3               106  Asheville   \n",
       "4               339  Asheville   \n",
       "\n",
       "                                         description Name_new Geo_cl_x  \\\n",
       "0  [charming, victorian, home, twin, beds, +, bre...     home        2   \n",
       "1                                 [terrace, cottage]     Null        2   \n",
       "2                                 [blue, gate, west]     Null        2   \n",
       "3                    [asheville, dreamer, 's, cabin]     Null        2   \n",
       "4     [luxurious, mountain, guest, suite, apartment]    suite        2   \n",
       "\n",
       "  Geo_cl_y  Geo_cl  \n",
       "0        2       2  \n",
       "1        2       2  \n",
       "2        2       2  \n",
       "3        2       2  \n",
       "4        2       2  \n",
       "\n",
       "[5 rows x 22 columns]"
      ]
     },
     "execution_count": 107,
     "metadata": {},
     "output_type": "execute_result"
    }
   ],
   "source": [
    "df_airbnb.head()"
   ]
  },
  {
   "cell_type": "markdown",
   "metadata": {},
   "source": [
    "### Sleccion de caracteristicas X y variable objetivo Y"
   ]
  },
  {
   "cell_type": "code",
   "execution_count": 108,
   "metadata": {
    "tags": []
   },
   "outputs": [],
   "source": [
    "X = df_airbnb[['host_id','room_type','minimum_nights','number_of_reviews','calculated_host_listings_count','availability_365','city','Geo_cl','Name_new']]\n",
    "y = df_airbnb['price']"
   ]
  },
  {
   "cell_type": "markdown",
   "metadata": {},
   "source": [
    "### Definir las variables tipo numericas"
   ]
  },
  {
   "cell_type": "markdown",
   "metadata": {
    "tags": []
   },
   "source": [
    "### Definir las variables tipo categoricas"
   ]
  },
  {
   "cell_type": "code",
   "execution_count": 109,
   "metadata": {
    "tags": []
   },
   "outputs": [],
   "source": [
    "categorical = [ 'room_type','Name_new','Geo_cl','city']\n",
    "\n",
    "categorical = [x for x in list(X.columns) if x in categorical]"
   ]
  },
  {
   "cell_type": "code",
   "execution_count": 86,
   "metadata": {
    "tags": []
   },
   "outputs": [],
   "source": [
    "numerical = ['minimum_nights','number_of_reviews','reviews_per_month','calculated_host_listings_count','availability_365', 'minimum_nights']\n",
    "numerical = [x for x in list(X.columns) if x in numerical]"
   ]
  },
  {
   "cell_type": "code",
   "execution_count": 87,
   "metadata": {},
   "outputs": [],
   "source": [
    "discreet = ['host_id']\n",
    "discreet = [x for x in list(X.columns) if x in discreet]"
   ]
  },
  {
   "cell_type": "code",
   "execution_count": 110,
   "metadata": {},
   "outputs": [
    {
     "name": "stdout",
     "output_type": "stream",
     "text": [
      "['room_type', 'city', 'Geo_cl', 'Name_new']\n"
     ]
    }
   ],
   "source": [
    "print(categorical )"
   ]
  },
  {
   "cell_type": "code",
   "execution_count": 111,
   "metadata": {},
   "outputs": [],
   "source": [
    "# Pipeline Categoricó\n",
    "cat_pipe = Pipeline([\n",
    "    ('imputer', SimpleImputer(strategy='constant', fill_value='missing')),\n",
    "    ('encoder', OneHotEncoder(handle_unknown='ignore', sparse=False))\n",
    "])\n",
    "\n",
    "# Pipeline Discreto\n",
    "dist_pipe = Pipeline([\n",
    "    ('imputer', SimpleImputer(strategy='median')),\n",
    "    ('KBinsDiscretizer', KBinsDiscretizer(n_bins=130425, encode='ordinal', strategy='uniform'))\n",
    "])\n",
    "\n",
    "\n",
    "    \n",
    "# Pipeline Numericó\n",
    "num_pipe = Pipeline([\n",
    "    ('imputer', SimpleImputer(strategy='median')),\n",
    "    ('scaler', MinMaxScaler())\n",
    "])\n",
    "\n",
    "\n",
    "#column transformer\n",
    "preprocessor = ColumnTransformer([\n",
    "    ('cat', cat_pipe, categorical),\n",
    "    ('num', num_pipe, numerical),\n",
    "    ('dist',dist_pipe, discreet)\n",
    "])\n",
    "preprocessor.fit(X)\n",
    "\n",
    "# Nombres de las columnas binarias-onehotencoding\n",
    "cat_columns = preprocessor.named_transformers_['cat']['encoder'].get_feature_names(categorical)\n",
    "\n",
    "columns = np.append(cat_columns, numerical)\n",
    "columns = np.append(columns,discreet )\n",
    "\n",
    "\n"
   ]
  },
  {
   "cell_type": "code",
   "execution_count": 112,
   "metadata": {},
   "outputs": [],
   "source": [
    "X_trans = preprocessor.transform(X)"
   ]
  },
  {
   "cell_type": "code",
   "execution_count": 113,
   "metadata": {},
   "outputs": [],
   "source": [
    "Xtrans_arr = pd.DataFrame(X_trans,columns =columns )"
   ]
  },
  {
   "cell_type": "code",
   "execution_count": 114,
   "metadata": {},
   "outputs": [
    {
     "name": "stdout",
     "output_type": "stream",
     "text": [
      "<class 'pandas.core.frame.DataFrame'>\n",
      "RangeIndex: 10504921 entries, 0 to 10504920\n",
      "Data columns (total 73 columns):\n",
      " #   Column                          Dtype  \n",
      "---  ------                          -----  \n",
      " 0   room_type_Entire home/apt       float64\n",
      " 1   room_type_Hotel room            float64\n",
      " 2   room_type_Private room          float64\n",
      " 3   room_type_Shared room           float64\n",
      " 4   city_Asheville                  float64\n",
      " 5   city_Austin                     float64\n",
      " 6   city_Boston                     float64\n",
      " 7   city_Broward County             float64\n",
      " 8   city_Cambridge                  float64\n",
      " 9   city_Chicago                    float64\n",
      " 10  city_Clark County               float64\n",
      " 11  city_Columbus                   float64\n",
      " 12  city_Denver                     float64\n",
      " 13  city_Hawaii                     float64\n",
      " 14  city_Jersey City                float64\n",
      " 15  city_Los Angeles                float64\n",
      " 16  city_Nashville                  float64\n",
      " 17  city_New Orleans                float64\n",
      " 18  city_New York City              float64\n",
      " 19  city_Oakland                    float64\n",
      " 20  city_Pacific Grove              float64\n",
      " 21  city_Portland                   float64\n",
      " 22  city_Rhode Island               float64\n",
      " 23  city_Salem                      float64\n",
      " 24  city_San Clara Country          float64\n",
      " 25  city_San Diego                  float64\n",
      " 26  city_San Francisco              float64\n",
      " 27  city_San Mateo County           float64\n",
      " 28  city_Santa Cruz County          float64\n",
      " 29  city_Seattle                    float64\n",
      " 30  city_Twin Cities MSA            float64\n",
      " 31  city_Washington D.C.            float64\n",
      " 32  Geo_cl_0                        float64\n",
      " 33  Geo_cl_1                        float64\n",
      " 34  Geo_cl_2                        float64\n",
      " 35  Geo_cl_3                        float64\n",
      " 36  Geo_cl_4                        float64\n",
      " 37  Geo_cl_5                        float64\n",
      " 38  Name_new_(                      float64\n",
      " 39  Name_new_)                      float64\n",
      " 40  Name_new_1                      float64\n",
      " 41  Name_new_2                      float64\n",
      " 42  Name_new_Null                   float64\n",
      " 43  Name_new_apartment              float64\n",
      " 44  Name_new_apt                    float64\n",
      " 45  Name_new_bath                   float64\n",
      " 46  Name_new_beach                  float64\n",
      " 47  Name_new_beautiful              float64\n",
      " 48  Name_new_bed                    float64\n",
      " 49  Name_new_bedroom                float64\n",
      " 50  Name_new_close                  float64\n",
      " 51  Name_new_condo                  float64\n",
      " 52  Name_new_cozy                   float64\n",
      " 53  Name_new_downtown               float64\n",
      " 54  Name_new_heart                  float64\n",
      " 55  Name_new_home                   float64\n",
      " 56  Name_new_house                  float64\n",
      " 57  Name_new_location               float64\n",
      " 58  Name_new_modern                 float64\n",
      " 59  Name_new_near                   float64\n",
      " 60  Name_new_new                    float64\n",
      " 61  Name_new_park                   float64\n",
      " 62  Name_new_private                float64\n",
      " 63  Name_new_room                   float64\n",
      " 64  Name_new_spacious               float64\n",
      " 65  Name_new_studio                 float64\n",
      " 66  Name_new_suite                  float64\n",
      " 67  Name_new_view                   float64\n",
      " 68  minimum_nights                  float64\n",
      " 69  number_of_reviews               float64\n",
      " 70  calculated_host_listings_count  float64\n",
      " 71  availability_365                float64\n",
      " 72  host_id                         float64\n",
      "dtypes: float64(73)\n",
      "memory usage: 5.7 GB\n"
     ]
    }
   ],
   "source": [
    "Xtrans_arr.info()"
   ]
  },
  {
   "cell_type": "markdown",
   "metadata": {},
   "source": [
    "X1 = Xtrans_arr[['city_New York City',\n",
    "'city_Portland',\n",
    "'Name_new_private',\n",
    "'Name_new_room',\n",
    "'room_type_Shared room',\n",
    "'city_Columbus',\n",
    "'number_of_reviews',\n",
    "'city_Seattle',\n",
    "'city_Denver',\n",
    "'city_Washington D.C.',\n",
    "'Name_new_apartment',\n",
    "'Name_new_spacious',\n",
    "'Name_new_suite',\n",
    "'Name_new_beautiful',\n",
    "'Name_new_1',\n",
    "'city_Chicago',\n",
    "'room_type_Private room',\n",
    "'city_Jersey City',\n",
    "'Name_new_apt',\n",
    "'city_Oakland',\n",
    "'calculated_host_listings_count',\n",
    "'Geo_cl',\n",
    "'city_Austin',\n",
    "'Name_new_studio',\n",
    "'Name_new_cozy',\n",
    "'city_Broward County',\n",
    "'city_Santa Cruz County',\n",
    "'city_Los Angeles',\n",
    "'city_Hawaii',\n",
    "'Name_new_luxury',\n",
    "'Name_new_house',\n",
    "'room_type_Hotel room',\n",
    "'Name_new_beach',\n",
    "'city_Cambridge',\n",
    "'city_San Francisco',\n",
    "'Name_new_modern',\n",
    "'Name_new_Null',\n",
    "'availability_365',\n",
    "'city_Nashville',\n",
    "'city_San Mateo County',\n",
    "'Name_new_home',\n",
    "'Name_new_2',\n",
    "'Name_new_new',\n",
    "'city_Boston',\n",
    "'city_Rhode Island',\n",
    "'room_type_Entire home/apt',\n",
    "'host_id',\n",
    "'Name_new_ocean']]"
   ]
  },
  {
   "cell_type": "markdown",
   "metadata": {},
   "source": [
    "### Seleccion de la muestra de entrenamiento y test"
   ]
  },
  {
   "cell_type": "code",
   "execution_count": 115,
   "metadata": {
    "tags": []
   },
   "outputs": [],
   "source": [
    "\n",
    "X_train, X_test, y_train, y_test = train_test_split(Xtrans_arr, y, test_size=0.4, random_state=101)"
   ]
  },
  {
   "cell_type": "markdown",
   "metadata": {},
   "source": [
    "# regresion Lineal"
   ]
  },
  {
   "cell_type": "code",
   "execution_count": 116,
   "metadata": {},
   "outputs": [],
   "source": [
    "from sklearn.linear_model import LinearRegression\n",
    "\n",
    "reglineal = LinearRegression().fit(X_train, y_train)\n",
    "reglineal.score(X_train, y_train)\n",
    "ylineal=reglineal.predict(X_test)"
   ]
  },
  {
   "cell_type": "code",
   "execution_count": 117,
   "metadata": {},
   "outputs": [
    {
     "data": {
      "text/plain": [
       "0.6032163304977114"
      ]
     },
     "execution_count": 117,
     "metadata": {},
     "output_type": "execute_result"
    }
   ],
   "source": [
    "reglineal.score(X_train, y_train)"
   ]
  },
  {
   "cell_type": "markdown",
   "metadata": {},
   "source": [
    "### Decision Tree Regressor "
   ]
  },
  {
   "cell_type": "code",
   "execution_count": 118,
   "metadata": {},
   "outputs": [
    {
     "data": {
      "text/plain": [
       "DecisionTreeRegressor(max_depth=64, min_samples_leaf=64, random_state=1)"
      ]
     },
     "execution_count": 118,
     "metadata": {},
     "output_type": "execute_result"
    }
   ],
   "source": [
    "from sklearn.tree import DecisionTreeRegressor \n",
    "from sklearn.model_selection import cross_val_score\n",
    "\n",
    "\n",
    "regressor = DecisionTreeRegressor(random_state=1, max_depth=64,min_samples_leaf=64)\n",
    "regressor.fit(X_train, y_train)"
   ]
  },
  {
   "cell_type": "code",
   "execution_count": 119,
   "metadata": {},
   "outputs": [],
   "source": [
    "score = regressor.score(X_test, y_test)"
   ]
  },
  {
   "cell_type": "code",
   "execution_count": 120,
   "metadata": {},
   "outputs": [
    {
     "data": {
      "text/plain": [
       "0.9885428299991337"
      ]
     },
     "execution_count": 120,
     "metadata": {},
     "output_type": "execute_result"
    }
   ],
   "source": [
    "score"
   ]
  },
  {
   "cell_type": "markdown",
   "metadata": {},
   "source": [
    "## Random Forest Regressor"
   ]
  },
  {
   "cell_type": "code",
   "execution_count": 121,
   "metadata": {},
   "outputs": [],
   "source": [
    "\n",
    "from sklearn.ensemble import RandomForestRegressor\n",
    "from sklearn.datasets import make_regression\n",
    "regr = RandomForestRegressor(max_depth=23, random_state=7)\n",
    "RF = regr.fit(X_train , y_train)\n"
   ]
  },
  {
   "cell_type": "code",
   "execution_count": 122,
   "metadata": {},
   "outputs": [
    {
     "data": {
      "text/plain": [
       "0.9972158690281743"
      ]
     },
     "execution_count": 122,
     "metadata": {},
     "output_type": "execute_result"
    }
   ],
   "source": [
    "RF.score(X_train , y_train)"
   ]
  },
  {
   "cell_type": "code",
   "execution_count": 123,
   "metadata": {},
   "outputs": [],
   "source": [
    "Yrf = RF.predict(X_test)"
   ]
  },
  {
   "cell_type": "code",
   "execution_count": 124,
   "metadata": {},
   "outputs": [
    {
     "name": "stdout",
     "output_type": "stream",
     "text": [
      "MAE: 0.7721974816997176\n",
      "MSE: 59.24568713113389\n",
      "RMSE: 7.6971220031342815\n"
     ]
    }
   ],
   "source": [
    "print('MAE:', metrics.mean_absolute_error(y_test, Yrf))\n",
    "print('MSE:', metrics.mean_squared_error(y_test, Yrf))\n",
    "print('RMSE:', np.sqrt(metrics.mean_squared_error(y_test, Yrf)))"
   ]
  },
  {
   "cell_type": "code",
   "execution_count": null,
   "metadata": {},
   "outputs": [],
   "source": [
    "def plot_feature_importance_tree_model(RF,width=15,height=15):\n",
    "    import matplotlib.pyplot as plt\n",
    "    feature_importance = regressor.feature_importances_\n",
    "    \n",
    "    # make importances relative to max importance\n",
    "    feature_importance = feature_importance\n",
    "    sorted_idx = np.argsort(feature_importance)\n",
    "    \n",
    "    pos = np.arange(sorted_idx.shape[0]) + 1\n",
    "    plt.figure(figsize=(width, height))\n",
    "    plt.barh(pos, feature_importance[sorted_idx], align='center')\n",
    "    plt.yticks(pos,np.array(X_train.columns)[sorted_idx])\n",
    "    plt.xlabel('Relative Importance')\n",
    "    plt.title('Variable Importance')\n",
    "    plt.show()\n",
    "    \n",
    "plot_feature_importance_tree_model(RF)"
   ]
  },
  {
   "cell_type": "markdown",
   "metadata": {},
   "source": [
    "## Neural network "
   ]
  },
  {
   "cell_type": "code",
   "execution_count": null,
   "metadata": {
    "tags": []
   },
   "outputs": [],
   "source": [
    "from sklearn.neural_network import MLPRegressor"
   ]
  },
  {
   "cell_type": "code",
   "execution_count": null,
   "metadata": {},
   "outputs": [],
   "source": [
    "reg = MLPRegressor(hidden_layer_sizes=(23,23,23),activation=\"relu\" ,learning_rate_init = 0.01,random_state=1, max_iter=27000).fit(X_train, y_train)"
   ]
  },
  {
   "cell_type": "code",
   "execution_count": null,
   "metadata": {},
   "outputs": [],
   "source": [
    "ynn=reg.predict(X_test)"
   ]
  },
  {
   "cell_type": "code",
   "execution_count": null,
   "metadata": {},
   "outputs": [],
   "source": [
    "print('reg score',reg.score(X_test, y_test))"
   ]
  },
  {
   "cell_type": "code",
   "execution_count": null,
   "metadata": {
    "tags": []
   },
   "outputs": [],
   "source": [
    "reg.score(X_test, y_test)"
   ]
  },
  {
   "cell_type": "code",
   "execution_count": null,
   "metadata": {},
   "outputs": [],
   "source": [
    "print('MAE:', metrics.mean_absolute_error(y_test, ynn))\n",
    "print('MSE:', metrics.mean_squared_error(y_test, ynn))\n",
    "print('RMSE:', np.sqrt(metrics.mean_squared_error(y_test, ynn)))"
   ]
  },
  {
   "cell_type": "markdown",
   "metadata": {},
   "source": [
    "# Linear least squares with l2 regularization.\n",
    "\n",
    "Minimizes the objective function:\n",
    "\n",
    "||y - Xw||^2_2 + alpha * ||w||^2_2\n",
    "This model solves a regression model where the loss function is the linear least squares function and regularization is given by the l2-norm. Also known as Ridge Regression or Tikhonov regularization. This estimator has built-in support for multi-variate regression (i.e., when y is a 2d-array of shape (n_samples, n_targets))."
   ]
  },
  {
   "cell_type": "code",
   "execution_count": null,
   "metadata": {},
   "outputs": [],
   "source": [
    "from sklearn.linear_model import Ridge"
   ]
  },
  {
   "cell_type": "code",
   "execution_count": null,
   "metadata": {
    "tags": []
   },
   "outputs": [],
   "source": [
    "from sklearn.linear_model import RidgeCV, LassoCV, Ridge, Lasso\n",
    "reg = LassoCV()\n",
    "reg.fit(X_train , y_train)\n"
   ]
  },
  {
   "cell_type": "code",
   "execution_count": null,
   "metadata": {},
   "outputs": [],
   "source": [
    "print(\"Best alpha using built-in LassoCV: %f\" % reg.alpha_)\n",
    "print(\"Best score using built-in LassoCV: %f\" %reg.score(X_train , y_train))\n",
    "coef = pd.Series(reg.coef_, index = X_train.columns)\n",
    "\n",
    "imp_coef = coef.sort_values()\n",
    "import matplotlib\n",
    "matplotlib.rcParams['figure.figsize'] = (8.0, 10.0)\n",
    "imp_coef.plot(kind = \"barh\" ,color = 'blue', figsize=(15,7))\n",
    "plt.title(\"Feature importance using Lasso Model\")"
   ]
  },
  {
   "cell_type": "code",
   "execution_count": null,
   "metadata": {
    "tags": []
   },
   "outputs": [],
   "source": [
    "imp_coef = pd.DataFrame(coef.sort_values())"
   ]
  },
  {
   "cell_type": "code",
   "execution_count": null,
   "metadata": {
    "tags": []
   },
   "outputs": [],
   "source": [
    "imp_coef.to_csv('/Users/ylpulgar/Jupyter/data_Bases/airb&bcoef.csv')"
   ]
  },
  {
   "cell_type": "code",
   "execution_count": null,
   "metadata": {},
   "outputs": [],
   "source": [
    "regRidge = Ridge(alpha=1.0)\n",
    "regRidge.fit(X_train, y_train)\n",
    "Ridge()"
   ]
  },
  {
   "cell_type": "code",
   "execution_count": null,
   "metadata": {},
   "outputs": [],
   "source": [
    "regRidge.score(X_test, y_test)"
   ]
  },
  {
   "cell_type": "markdown",
   "metadata": {},
   "source": [
    "Reescalar"
   ]
  },
  {
   "cell_type": "code",
   "execution_count": null,
   "metadata": {},
   "outputs": [],
   "source": [
    "y_train2 = y_train.values.reshape(-1, 1)"
   ]
  },
  {
   "cell_type": "code",
   "execution_count": null,
   "metadata": {},
   "outputs": [],
   "source": [
    "y_test1 = y_test.values.reshape(-1, 1)"
   ]
  },
  {
   "cell_type": "code",
   "execution_count": null,
   "metadata": {},
   "outputs": [],
   "source": [
    "\n",
    "from sklearn.preprocessing import StandardScaler\n",
    "# created scaler\n",
    "scaler = StandardScaler()\n",
    "# fit scaler on training dataset\n",
    "scaler.fit(y_train2)\n",
    "# transform training dataset\n",
    "\n",
    "\n"
   ]
  },
  {
   "cell_type": "code",
   "execution_count": null,
   "metadata": {},
   "outputs": [],
   "source": [
    "trainy2 = scaler.transform(y_train2)\n",
    "y_test1 = scaler.transform(y_test1)"
   ]
  },
  {
   "cell_type": "code",
   "execution_count": null,
   "metadata": {},
   "outputs": [],
   "source": [
    "regRidge = Ridge(alpha=1.0)\n",
    "regRidge.fit(X_train, trainy2)\n",
    "Ridge()"
   ]
  },
  {
   "cell_type": "code",
   "execution_count": null,
   "metadata": {},
   "outputs": [],
   "source": [
    "regRidge.score(X_test, y_test1)"
   ]
  },
  {
   "cell_type": "code",
   "execution_count": null,
   "metadata": {},
   "outputs": [],
   "source": [
    "print('Total number of feature coLumns: ', len(X_train))"
   ]
  },
  {
   "cell_type": "code",
   "execution_count": null,
   "metadata": {},
   "outputs": [],
   "source": [
    "X_train.info()"
   ]
  },
  {
   "cell_type": "code",
   "execution_count": null,
   "metadata": {},
   "outputs": [],
   "source": [
    "from tensorflow.keras.optimizers import SGD\n",
    "# define model\n",
    "model = Sequential()\n",
    "model.add(Dense(25, input_dim=23, activation='relu', kernel_initializer='he_uniform'))\n",
    "model.add(Dense(1, activation='linear'))\n",
    "# compile model\n",
    "model.compile(loss='mean_squared_error', optimizer=SGD(lr=0.01, momentum=0.9))\n",
    "# fit model\n",
    "history = model.fit(X_train, y_train, validation_data=(X_test, y_test), epochs=100, verbose=0)\n",
    "# evaluate the model\n",
    "train_mse = model.evaluate(X_train, y_train, verbose=0)\n",
    "test_mse = model.evaluate(X_test, y_test, verbose=0)\n",
    "print('Train: %.3f, Test: %.3f' % (train_mse, test_mse))\n"
   ]
  },
  {
   "cell_type": "code",
   "execution_count": null,
   "metadata": {},
   "outputs": [],
   "source": [
    "# compile model\n"
   ]
  },
  {
   "cell_type": "code",
   "execution_count": null,
   "metadata": {},
   "outputs": [],
   "source": [
    "history.score(X_test, testy)"
   ]
  },
  {
   "cell_type": "code",
   "execution_count": null,
   "metadata": {},
   "outputs": [],
   "source": [
    "print('reg score',history.score(X_test, testy))"
   ]
  },
  {
   "cell_type": "code",
   "execution_count": null,
   "metadata": {},
   "outputs": [],
   "source": [
    "# plot loss during training\n",
    "pyplot.title('Loss / Mean Squared Error')\n",
    "pyplot.plot(history.history['loss'], label='train')\n",
    "pyplot.plot(history.history['val_loss'], label='test')\n",
    "pyplot.legend()\n",
    "pyplot.show()"
   ]
  },
  {
   "cell_type": "code",
   "execution_count": null,
   "metadata": {},
   "outputs": [],
   "source": []
  },
  {
   "cell_type": "code",
   "execution_count": null,
   "metadata": {},
   "outputs": [],
   "source": []
  }
 ],
 "metadata": {
  "kernelspec": {
   "display_name": "Python 3 (ipykernel)",
   "language": "python",
   "name": "python3"
  },
  "language_info": {
   "codemirror_mode": {
    "name": "ipython",
    "version": 3
   },
   "file_extension": ".py",
   "mimetype": "text/x-python",
   "name": "python",
   "nbconvert_exporter": "python",
   "pygments_lexer": "ipython3",
   "version": "3.9.7"
  }
 },
 "nbformat": 4,
 "nbformat_minor": 4
}
